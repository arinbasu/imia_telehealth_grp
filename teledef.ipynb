{
 "cells": [
  {
   "cell_type": "code",
   "execution_count": 130,
   "id": "7a9a6b22-8fd3-4d5a-8063-953d66ccd2a9",
   "metadata": {},
   "outputs": [],
   "source": [
    "using Pkg, CSV, DataFrames, PrettyTables, CategoricalArrays"
   ]
  },
  {
   "cell_type": "code",
   "execution_count": 136,
   "id": "d04ab418-2dd5-4e2f-805d-ab86d9430bec",
   "metadata": {},
   "outputs": [],
   "source": [
    "using StatsBase, StatsFuns, Statistics, GLM, CategoricalArrays"
   ]
  },
  {
   "cell_type": "markdown",
   "id": "ce2cf05b-96f2-4dce-b161-5879a9755d88",
   "metadata": {},
   "source": [
    "## This notebook\n",
    "This notebook is written in Julia 1.9.1 (latest version) and presents the results of the survey posted earlier about the preferences and choices of how members of the IMIA Telehealth working group define telehealth. We informally surveyed 100+ members of the discussion group, and 19 members responded. The data were collected using a Qualtrics survery over three weeks. The annotated results and data are presented here. You can play with the data and the codes presented here if you fork this project. All codes are annotated. "
   ]
  },
  {
   "cell_type": "code",
   "execution_count": 190,
   "id": "182adb39-8047-4b3e-bdc2-f92f88670a18",
   "metadata": {},
   "outputs": [
    {
     "name": "stdout",
     "output_type": "stream",
     "text": [
      "StartDate\n",
      "EndDate\n",
      "Status\n",
      "Progress\n",
      "Duration (in seconds)\n",
      "Finished\n",
      "RecordedDate\n",
      "ResponseId\n",
      "DistributionChannel\n",
      "UserLanguage\n",
      "Preference\n",
      "Ranking_1\n",
      "Ranking_2\n",
      "Ranking_3\n",
      "Ranking_4\n",
      "Ranking_5\n",
      "Other\n",
      "experience\n",
      "Role\n",
      "Q8\n",
      "Q7\n"
     ]
    }
   ],
   "source": [
    "# read data from the teledef.csv data set stored in this repository\n",
    "df = CSV.read(\"teledef.csv\", DataFrame)\n",
    "# Print the variable names\n",
    "foreach(x -> println(x), names(df))"
   ]
  },
  {
   "cell_type": "code",
   "execution_count": 191,
   "id": "e007d0cc-5fd1-475f-a484-b7c39cd8c819",
   "metadata": {},
   "outputs": [
    {
     "data": {
      "text/plain": [
       "23"
      ]
     },
     "execution_count": 191,
     "metadata": {},
     "output_type": "execute_result"
    }
   ],
   "source": [
    "nrow(df) # number of rows in the data set"
   ]
  },
  {
   "cell_type": "code",
   "execution_count": 192,
   "id": "4ed5dda1-b5fc-4e24-adcc-a19a8bbbd87b",
   "metadata": {},
   "outputs": [
    {
     "data": {
      "text/plain": [
       "23"
      ]
     },
     "execution_count": 192,
     "metadata": {},
     "output_type": "execute_result"
    }
   ],
   "source": [
    "# Select the list of variables to work with\n",
    "\n",
    "selected_df = select(df, [:ResponseId, :Preference, :Ranking_1, :Ranking_2,\n",
    "        :Ranking_3, :Ranking_4, :Ranking_5, :Other, :experience, :Q8, :Role])\n",
    "nrow(selected_df) # check that the rows match"
   ]
  },
  {
   "cell_type": "code",
   "execution_count": 194,
   "id": "a391a265-a300-4efe-9e82-ec6ee46a54ab",
   "metadata": {},
   "outputs": [
    {
     "data": {
      "text/html": [
       "<div><div style = \"float: left;\"><span>7×3 DataFrame</span></div><div style = \"clear: both;\"></div></div><div class = \"data-frame\" style = \"overflow-x: scroll;\"><table class = \"data-frame\" style = \"margin-bottom: 6px;\"><thead><tr class = \"header\"><th class = \"rowNumber\" style = \"font-weight: bold; text-align: right;\">Row</th><th style = \"text-align: left;\">category</th><th style = \"text-align: left;\">counts</th><th style = \"text-align: left;\">pct</th></tr><tr class = \"subheader headerLastRow\"><th class = \"rowNumber\" style = \"font-weight: bold; text-align: right;\"></th><th title = \"CategoricalValue{String, UInt32}\" style = \"text-align: left;\">Cat…</th><th title = \"Int64\" style = \"text-align: left;\">Int64</th><th title = \"Float64\" style = \"text-align: left;\">Float64</th></tr></thead><tbody><tr><td class = \"rowNumber\" style = \"font-weight: bold; text-align: right;\">1</td><td style = \"text-align: left;\">Distance Bridging System</td><td style = \"text-align: right;\">5</td><td style = \"text-align: right;\">27.7778</td></tr><tr><td class = \"rowNumber\" style = \"font-weight: bold; text-align: right;\">2</td><td style = \"text-align: left;\">None of the above / Other</td><td style = \"text-align: right;\">5</td><td style = \"text-align: right;\">27.7778</td></tr><tr><td class = \"rowNumber\" style = \"font-weight: bold; text-align: right;\">3</td><td style = \"text-align: left;\">Distance Bridging System,Store and Forward,Mobile Health,Mobile Messaging</td><td style = \"text-align: right;\">3</td><td style = \"text-align: right;\">16.6667</td></tr><tr><td class = \"rowNumber\" style = \"font-weight: bold; text-align: right;\">4</td><td style = \"text-align: left;\">Distance Bridging System,Store and Forward,Mobile Health</td><td style = \"text-align: right;\">2</td><td style = \"text-align: right;\">11.1111</td></tr><tr><td class = \"rowNumber\" style = \"font-weight: bold; text-align: right;\">5</td><td style = \"text-align: left;\">Distance Bridging System,Mobile Health</td><td style = \"text-align: right;\">1</td><td style = \"text-align: right;\">5.55556</td></tr><tr><td class = \"rowNumber\" style = \"font-weight: bold; text-align: right;\">6</td><td style = \"text-align: left;\">Distance Bridging System,Mobile Messaging</td><td style = \"text-align: right;\">1</td><td style = \"text-align: right;\">5.55556</td></tr><tr><td class = \"rowNumber\" style = \"font-weight: bold; text-align: right;\">7</td><td style = \"text-align: left;\">Store and Forward</td><td style = \"text-align: right;\">1</td><td style = \"text-align: right;\">5.55556</td></tr></tbody></table></div>"
      ],
      "text/latex": [
       "\\begin{tabular}{r|ccc}\n",
       "\t& category & counts & \\\\\n",
       "\t\\hline\n",
       "\t& Cat… & Int64 & \\\\\n",
       "\t\\hline\n",
       "\t1 & Distance Bridging System & 5 & $\\dots$ \\\\\n",
       "\t2 & None of the above / Other & 5 & $\\dots$ \\\\\n",
       "\t3 & Distance Bridging System,Store and Forward,Mobile Health,Mobile Messaging & 3 & $\\dots$ \\\\\n",
       "\t4 & Distance Bridging System,Store and Forward,Mobile Health & 2 & $\\dots$ \\\\\n",
       "\t5 & Distance Bridging System,Mobile Health & 1 & $\\dots$ \\\\\n",
       "\t6 & Distance Bridging System,Mobile Messaging & 1 & $\\dots$ \\\\\n",
       "\t7 & Store and Forward & 1 & $\\dots$ \\\\\n",
       "\\end{tabular}\n"
      ],
      "text/plain": [
       "\u001b[1m7×3 DataFrame\u001b[0m\n",
       "\u001b[1m Row \u001b[0m│\u001b[1m category                          \u001b[0m\u001b[1m counts \u001b[0m\u001b[1m pct      \u001b[0m\n",
       "     │\u001b[90m Cat…                              \u001b[0m\u001b[90m Int64  \u001b[0m\u001b[90m Float64  \u001b[0m\n",
       "─────┼─────────────────────────────────────────────────────\n",
       "   1 │ Distance Bridging System                5  27.7778\n",
       "   2 │ None of the above / Other               5  27.7778\n",
       "   3 │ Distance Bridging System,Store a…       3  16.6667\n",
       "   4 │ Distance Bridging System,Store a…       2  11.1111\n",
       "   5 │ Distance Bridging System,Mobile …       1   5.55556\n",
       "   6 │ Distance Bridging System,Mobile …       1   5.55556\n",
       "   7 │ Store and Forward                       1   5.55556"
      ]
     },
     "execution_count": 194,
     "metadata": {},
     "output_type": "execute_result"
    }
   ],
   "source": [
    "## Preferences of the definitions\n",
    "\n",
    "ourprefs = select(selected_df, :Preference)\n",
    "ourprefs2 = dropmissing(ourprefs)\n",
    "ourprefs3 = ourprefs2[3:length(ourprefs2.Preference), :]\n",
    "ourprefs4 = categorical(ourprefs3.Preference)\n",
    "ourprefs5 = countmap(ourprefs4)\n",
    "mycats = DataFrame(:category =>[k for (k,v) in ourprefs5], :counts => [v for (k,v) in ourprefs5])\n",
    "mycats1 = sort(mycats, :counts, rev = true)\n",
    "mycats1.pct = (mycats1.counts ./ sum(mycats1.counts) ) * 100\n",
    "mycats1"
   ]
  },
  {
   "cell_type": "code",
   "execution_count": 195,
   "id": "561ea6d6-fc17-425e-ae43-e3e83bd48120",
   "metadata": {},
   "outputs": [
    {
     "data": {
      "text/plain": [
       "give_counts (generic function with 1 method)"
      ]
     },
     "execution_count": 195,
     "metadata": {},
     "output_type": "execute_result"
    }
   ],
   "source": [
    "# define a function to create similar counts with other variables\n",
    "function give_counts(x)\n",
    "    x1 = countmap(x)\n",
    "    x2 = DataFrame(:category => [k for (k,v) in x1], :counts => [v for (k,v) in x1])\n",
    "    x3 = sort(x2, :counts, rev = true)\n",
    "    x3.pct = (x3.counts  ./ sum(x3.counts) ) * 100\n",
    "    return(x3)\n",
    "end"
   ]
  },
  {
   "cell_type": "code",
   "execution_count": 196,
   "id": "2cc47ae3-b8b1-48f1-840a-a20dcd1e8f99",
   "metadata": {},
   "outputs": [
    {
     "data": {
      "text/html": [
       "<div><div style = \"float: left;\"><span>13×3 DataFrame</span></div><div style = \"clear: both;\"></div></div><div class = \"data-frame\" style = \"overflow-x: scroll;\"><table class = \"data-frame\" style = \"margin-bottom: 6px;\"><thead><tr class = \"header\"><th class = \"rowNumber\" style = \"font-weight: bold; text-align: right;\">Row</th><th style = \"text-align: left;\">category</th><th style = \"text-align: left;\">counts</th><th style = \"text-align: left;\">pct</th></tr><tr class = \"subheader headerLastRow\"><th class = \"rowNumber\" style = \"font-weight: bold; text-align: right;\"></th><th title = \"CategoricalValue{String, UInt32}\" style = \"text-align: left;\">Cat…</th><th title = \"Int64\" style = \"text-align: left;\">Int64</th><th title = \"Float64\" style = \"text-align: left;\">Float64</th></tr></thead><tbody><tr><td class = \"rowNumber\" style = \"font-weight: bold; text-align: right;\">1</td><td style = \"text-align: left;\">Nil</td><td style = \"text-align: right;\">2</td><td style = \"text-align: right;\">14.2857</td></tr><tr><td class = \"rowNumber\" style = \"font-weight: bold; text-align: right;\">2</td><td style = \"text-align: left;\">Provision of healthcare services, including education and administration, at a distance using ICT.</td><td style = \"text-align: right;\">1</td><td style = \"text-align: right;\">7.14286</td></tr><tr><td class = \"rowNumber\" style = \"font-weight: bold; text-align: right;\">3</td><td style = \"text-align: left;\">Delivery of services using any type of information and communication technogy, not necessary electronic or digital and where distance is more than 0</td><td style = \"text-align: right;\">1</td><td style = \"text-align: right;\">7.14286</td></tr><tr><td class = \"rowNumber\" style = \"font-weight: bold; text-align: right;\">4</td><td style = \"text-align: left;\">the options Distance Bridging System, Store and Forward, and Mobile Health can be considered examples of telehealth and/or telemedicine, while Mobile Messaging may or may not be considered a form of telehealth depending on the specific context.                                 It can be defined as the use of telecommunication and information technologies to provide remote clinical healthcare services, medical education, and health administration. It encompasses a range of healthcare services and technologies that include virtual consultations, remote monitoring of patients, digital imaging and health record management, and mobile health applications. </td><td style = \"text-align: right;\">1</td><td style = \"text-align: right;\">7.14286</td></tr><tr><td class = \"rowNumber\" style = \"font-weight: bold; text-align: right;\">5</td><td style = \"text-align: left;\">The delivery of health services where at least two entities are separated by distance</td><td style = \"text-align: right;\">1</td><td style = \"text-align: right;\">7.14286</td></tr><tr><td class = \"rowNumber\" style = \"font-weight: bold; text-align: right;\">6</td><td style = \"text-align: left;\">Telehealth is a much brother term than the definitions included. I think you are talking about telemedicine. Both terms are defined by WHO, PAHO, ATA, etc:</td><td style = \"text-align: right;\">1</td><td style = \"text-align: right;\">7.14286</td></tr><tr><td class = \"rowNumber\" style = \"font-weight: bold; text-align: right;\">7</td><td style = \"text-align: left;\">The difference should be between “health” and “medicine”. Health includes healthy people and patients, while medicine covers only sick people (patients). “Tele” is a technology term that can precede many medical disciplines.</td><td style = \"text-align: right;\">1</td><td style = \"text-align: right;\">7.14286</td></tr><tr><td class = \"rowNumber\" style = \"font-weight: bold; text-align: right;\">8</td><td style = \"text-align: left;\">A telehealth service is a:\\nhealthcare activity supported at a distance by information and communication technology service(s)\\n \\nwhere a service is service is the:\\noutput of an organization with at least one activity necessarily performed between the organization and the customer\\n</td><td style = \"text-align: right;\">1</td><td style = \"text-align: right;\">7.14286</td></tr><tr><td class = \"rowNumber\" style = \"font-weight: bold; text-align: right;\">9</td><td style = \"text-align: left;\">Telehealth can be described as the delivery of healthcare at a distance using telecommunication technologies. Telehealth contains both preventive and curative aspects of healthcare delivery. Telemedicine, on the other hand, is the curative or the clinical part of Telehealth and can be described as &apos;the process of exchanging medical information from one site to another via electronic communications to improve a patient&apos;s clinical health status.  (http://doi.org/10.4038/sljbmi.v11i1.8090)</td><td style = \"text-align: right;\">1</td><td style = \"text-align: right;\">7.14286</td></tr><tr><td class = \"rowNumber\" style = \"font-weight: bold; text-align: right;\">10</td><td style = \"text-align: left;\">Overall it is much more than all of these, Definition of Store and Forward is wide off the mark - the Stated definition is more about Remote monitoring which in any case should be one of the definitions. Store and Forward is using stored data asynchronously to not only create advice, a continuity of care record but also reuse for analytics and long term health strategy  </td><td style = \"text-align: right;\">1</td><td style = \"text-align: right;\">7.14286</td></tr><tr><td class = \"rowNumber\" style = \"font-weight: bold; text-align: right;\">11</td><td style = \"text-align: left;\">Telehealth is the use of communication technology to support a health related encounter challenged by space and/or time.</td><td style = \"text-align: right;\">1</td><td style = \"text-align: right;\">7.14286</td></tr><tr><td class = \"rowNumber\" style = \"font-weight: bold; text-align: right;\">12</td><td style = \"text-align: left;\">I agree with Alan&apos;s recent email explaining the challenges and an approach</td><td style = \"text-align: right;\">1</td><td style = \"text-align: right;\">7.14286</td></tr><tr><td class = \"rowNumber\" style = \"font-weight: bold; text-align: right;\">13</td><td style = \"text-align: left;\">Using technology when the participants are separated by time and/or distance. \\n\\nThe addition of time enables store and forward to come under the definition. \\n\\nThe 4 options provided earlier are all types of telehealth. </td><td style = \"text-align: right;\">1</td><td style = \"text-align: right;\">7.14286</td></tr></tbody></table></div>"
      ],
      "text/latex": [
       "\\begin{tabular}{r|cc}\n",
       "\t& category & \\\\\n",
       "\t\\hline\n",
       "\t& Cat… & \\\\\n",
       "\t\\hline\n",
       "\t1 & Nil & $\\dots$ \\\\\n",
       "\t2 & Provision of healthcare services, including education and administration, at a distance using ICT. & $\\dots$ \\\\\n",
       "\t3 & Delivery of services using any type of information and communication technogy, not necessary electronic or digital and where distance is more than 0 & $\\dots$ \\\\\n",
       "\t4 & the options Distance Bridging System, Store and Forward, and Mobile Health can be considered examples of telehealth and/or telemedicine, while Mobile Messaging may or may not be considered a form of telehealth depending on the specific context.                                 It can be defined as the use of telecommunication and information technologies to provide remote clinical healthcare services, medical education, and health administration. It encompasses a range of healthcare services and technologies that include virtual consultations, remote monitoring of patients, digital imaging and health record management, and mobile health applications.  & $\\dots$ \\\\\n",
       "\t5 & The delivery of health services where at least two entities are separated by distance & $\\dots$ \\\\\n",
       "\t6 & Telehealth is a much brother term than the definitions included. I think you are talking about telemedicine. Both terms are defined by WHO, PAHO, ATA, etc: & $\\dots$ \\\\\n",
       "\t7 & The difference should be between “health” and “medicine”. Health includes healthy people and patients, while medicine covers only sick people (patients). “Tele” is a technology term that can precede many medical disciplines. & $\\dots$ \\\\\n",
       "\t8 & A telehealth service is a:\\textbackslash{}nhealthcare activity supported at a distance by information and communication technology service(s)\\textbackslash{}n \\textbackslash{}nwhere a service is service is the:\\textbackslash{}noutput of an organization with at least one activity necessarily performed between the organization and the customer\\textbackslash{}n & $\\dots$ \\\\\n",
       "\t9 & Telehealth can be described as the delivery of healthcare at a distance using telecommunication technologies. Telehealth contains both preventive and curative aspects of healthcare delivery. Telemedicine, on the other hand, is the curative or the clinical part of Telehealth and can be described as 'the process of exchanging medical information from one site to another via electronic communications to improve a patient's clinical health status.  (http://doi.org/10.4038/sljbmi.v11i1.8090) & $\\dots$ \\\\\n",
       "\t10 & Overall it is much more than all of these, Definition of Store and Forward is wide off the mark - the Stated definition is more about Remote monitoring which in any case should be one of the definitions. Store and Forward is using stored data asynchronously to not only create advice, a continuity of care record but also reuse for analytics and long term health strategy   & $\\dots$ \\\\\n",
       "\t11 & Telehealth is the use of communication technology to support a health related encounter challenged by space and/or time. & $\\dots$ \\\\\n",
       "\t12 & I agree with Alan's recent email explaining the challenges and an approach & $\\dots$ \\\\\n",
       "\t13 & Using technology when the participants are separated by time and/or distance. \\textbackslash{}n\\textbackslash{}nThe addition of time enables store and forward to come under the definition. \\textbackslash{}n\\textbackslash{}nThe 4 options provided earlier are all types of telehealth.  & $\\dots$ \\\\\n",
       "\\end{tabular}\n"
      ],
      "text/plain": [
       "\u001b[1m13×3 DataFrame\u001b[0m\n",
       "\u001b[1m Row \u001b[0m│\u001b[1m category                          \u001b[0m\u001b[1m counts \u001b[0m\u001b[1m pct      \u001b[0m\n",
       "     │\u001b[90m Cat…                              \u001b[0m\u001b[90m Int64  \u001b[0m\u001b[90m Float64  \u001b[0m\n",
       "─────┼─────────────────────────────────────────────────────\n",
       "   1 │ Nil                                     2  14.2857\n",
       "   2 │ Provision of healthcare services…       1   7.14286\n",
       "   3 │ Delivery of services using any t…       1   7.14286\n",
       "   4 │ the options Distance Bridging Sy…       1   7.14286\n",
       "   5 │ The delivery of health services …       1   7.14286\n",
       "   6 │ Telehealth is a much brother ter…       1   7.14286\n",
       "   7 │ The difference should be between…       1   7.14286\n",
       "   8 │ A telehealth service is a:\\nheal…       1   7.14286\n",
       "   9 │ Telehealth can be described as t…       1   7.14286\n",
       "  10 │ Overall it is much more than all…       1   7.14286\n",
       "  11 │ Telehealth is the use of communi…       1   7.14286\n",
       "  12 │ I agree with Alan's recent email…       1   7.14286\n",
       "  13 │ Using technology when the partic…       1   7.14286"
      ]
     },
     "execution_count": 196,
     "metadata": {},
     "output_type": "execute_result"
    }
   ],
   "source": [
    "# count and percentages of how members defined telehealth for themselves\n",
    "\n",
    "owndefs = select(selected_df, :Other)\n",
    "owndefs2 = dropmissing(owndefs)\n",
    "owndefs3 = owndefs2[3:length(owndefs2.Other), :]\n",
    "owndefs4 = categorical(owndefs3.Other)\n",
    "owndef_counts = give_counts(owndefs4)"
   ]
  },
  {
   "cell_type": "code",
   "execution_count": 198,
   "id": "517790a3-5bfe-495d-8aab-53946fd42748",
   "metadata": {},
   "outputs": [
    {
     "data": {
      "text/html": [
       "<div><div style = \"float: left;\"><span>12×3 DataFrame</span></div><div style = \"clear: both;\"></div></div><div class = \"data-frame\" style = \"overflow-x: scroll;\"><table class = \"data-frame\" style = \"margin-bottom: 6px;\"><thead><tr class = \"header\"><th class = \"rowNumber\" style = \"font-weight: bold; text-align: right;\">Row</th><th style = \"text-align: left;\">category</th><th style = \"text-align: left;\">counts</th><th style = \"text-align: left;\">pct</th></tr><tr class = \"subheader headerLastRow\"><th class = \"rowNumber\" style = \"font-weight: bold; text-align: right;\"></th><th title = \"CategoricalValue{String, UInt32}\" style = \"text-align: left;\">Cat…</th><th title = \"Int64\" style = \"text-align: left;\">Int64</th><th title = \"Float64\" style = \"text-align: left;\">Float64</th></tr></thead><tbody><tr><td class = \"rowNumber\" style = \"font-weight: bold; text-align: right;\">1</td><td style = \"text-align: left;\">20</td><td style = \"text-align: right;\">3</td><td style = \"text-align: right;\">21.4286</td></tr><tr><td class = \"rowNumber\" style = \"font-weight: bold; text-align: right;\">2</td><td style = \"text-align: left;\">40y</td><td style = \"text-align: right;\">1</td><td style = \"text-align: right;\">7.14286</td></tr><tr><td class = \"rowNumber\" style = \"font-weight: bold; text-align: right;\">3</td><td style = \"text-align: left;\">25</td><td style = \"text-align: right;\">1</td><td style = \"text-align: right;\">7.14286</td></tr><tr><td class = \"rowNumber\" style = \"font-weight: bold; text-align: right;\">4</td><td style = \"text-align: left;\">11</td><td style = \"text-align: right;\">1</td><td style = \"text-align: right;\">7.14286</td></tr><tr><td class = \"rowNumber\" style = \"font-weight: bold; text-align: right;\">5</td><td style = \"text-align: left;\">15</td><td style = \"text-align: right;\">1</td><td style = \"text-align: right;\">7.14286</td></tr><tr><td class = \"rowNumber\" style = \"font-weight: bold; text-align: right;\">6</td><td style = \"text-align: left;\">27</td><td style = \"text-align: right;\">1</td><td style = \"text-align: right;\">7.14286</td></tr><tr><td class = \"rowNumber\" style = \"font-weight: bold; text-align: right;\">7</td><td style = \"text-align: left;\">Above 10 years </td><td style = \"text-align: right;\">1</td><td style = \"text-align: right;\">7.14286</td></tr><tr><td class = \"rowNumber\" style = \"font-weight: bold; text-align: right;\">8</td><td style = \"text-align: left;\">14 years </td><td style = \"text-align: right;\">1</td><td style = \"text-align: right;\">7.14286</td></tr><tr><td class = \"rowNumber\" style = \"font-weight: bold; text-align: right;\">9</td><td style = \"text-align: left;\">14</td><td style = \"text-align: right;\">1</td><td style = \"text-align: right;\">7.14286</td></tr><tr><td class = \"rowNumber\" style = \"font-weight: bold; text-align: right;\">10</td><td style = \"text-align: left;\">15 years</td><td style = \"text-align: right;\">1</td><td style = \"text-align: right;\">7.14286</td></tr><tr><td class = \"rowNumber\" style = \"font-weight: bold; text-align: right;\">11</td><td style = \"text-align: left;\">20+</td><td style = \"text-align: right;\">1</td><td style = \"text-align: right;\">7.14286</td></tr><tr><td class = \"rowNumber\" style = \"font-weight: bold; text-align: right;\">12</td><td style = \"text-align: left;\">30</td><td style = \"text-align: right;\">1</td><td style = \"text-align: right;\">7.14286</td></tr></tbody></table></div>"
      ],
      "text/latex": [
       "\\begin{tabular}{r|ccc}\n",
       "\t& category & counts & pct\\\\\n",
       "\t\\hline\n",
       "\t& Cat… & Int64 & Float64\\\\\n",
       "\t\\hline\n",
       "\t1 & 20 & 3 & 21.4286 \\\\\n",
       "\t2 & 40y & 1 & 7.14286 \\\\\n",
       "\t3 & 25 & 1 & 7.14286 \\\\\n",
       "\t4 & 11 & 1 & 7.14286 \\\\\n",
       "\t5 & 15 & 1 & 7.14286 \\\\\n",
       "\t6 & 27 & 1 & 7.14286 \\\\\n",
       "\t7 & Above 10 years  & 1 & 7.14286 \\\\\n",
       "\t8 & 14 years  & 1 & 7.14286 \\\\\n",
       "\t9 & 14 & 1 & 7.14286 \\\\\n",
       "\t10 & 15 years & 1 & 7.14286 \\\\\n",
       "\t11 & 20+ & 1 & 7.14286 \\\\\n",
       "\t12 & 30 & 1 & 7.14286 \\\\\n",
       "\\end{tabular}\n"
      ],
      "text/plain": [
       "\u001b[1m12×3 DataFrame\u001b[0m\n",
       "\u001b[1m Row \u001b[0m│\u001b[1m category        \u001b[0m\u001b[1m counts \u001b[0m\u001b[1m pct      \u001b[0m\n",
       "     │\u001b[90m Cat…            \u001b[0m\u001b[90m Int64  \u001b[0m\u001b[90m Float64  \u001b[0m\n",
       "─────┼───────────────────────────────────\n",
       "   1 │ 20                    3  21.4286\n",
       "   2 │ 40y                   1   7.14286\n",
       "   3 │ 25                    1   7.14286\n",
       "   4 │ 11                    1   7.14286\n",
       "   5 │ 15                    1   7.14286\n",
       "   6 │ 27                    1   7.14286\n",
       "   7 │ Above 10 years        1   7.14286\n",
       "   8 │ 14 years              1   7.14286\n",
       "   9 │ 14                    1   7.14286\n",
       "  10 │ 15 years              1   7.14286\n",
       "  11 │ 20+                   1   7.14286\n",
       "  12 │ 30                    1   7.14286"
      ]
     },
     "execution_count": 198,
     "metadata": {},
     "output_type": "execute_result"
    }
   ],
   "source": [
    "# members' years of experience\n",
    "exper = select(selected_df, :experience)\n",
    "exper2 = dropmissing(exper)\n",
    "exper3 = exper2[3:length(exper2.experience), :]\n",
    "exper4 = categorical(exper3.experience)\n",
    "exper_counts = give_counts(exper4)"
   ]
  },
  {
   "cell_type": "code",
   "execution_count": 199,
   "id": "808c490c-b930-4800-ac64-8622facf7511",
   "metadata": {},
   "outputs": [
    {
     "data": {
      "text/plain": [
       "4-element Vector{Float64}:\n",
       " 20.53846153846154\n",
       " 10.0\n",
       " 40.0\n",
       " 20.0"
      ]
     },
     "execution_count": 199,
     "metadata": {},
     "output_type": "execute_result"
    }
   ],
   "source": [
    "# Obtain the summary estimates of their years of experience\n",
    "years_of_work = [20, 20, 20, 40, 25, 11, 15, 27, 10, 14, 15, 20, 30]\n",
    "mean_y = mean(years_of_work) # 20.5\n",
    "min_y = minimum(years_of_work) #10\n",
    "max_y = maximum(years_of_work) #40\n",
    "med_y = median(years_of_work) # 20\n",
    "\n",
    "work_sum = [mean_y, min_y, max_y, med_y]\n",
    "work_sum"
   ]
  },
  {
   "cell_type": "code",
   "execution_count": 200,
   "id": "68774b1a-6c70-4e1f-824b-d171ed19c7cc",
   "metadata": {},
   "outputs": [
    {
     "data": {
      "text/html": [
       "<div><div style = \"float: left;\"><span>9×3 DataFrame</span></div><div style = \"clear: both;\"></div></div><div class = \"data-frame\" style = \"overflow-x: scroll;\"><table class = \"data-frame\" style = \"margin-bottom: 6px;\"><thead><tr class = \"header\"><th class = \"rowNumber\" style = \"font-weight: bold; text-align: right;\">Row</th><th style = \"text-align: left;\">category</th><th style = \"text-align: left;\">counts</th><th style = \"text-align: left;\">pct</th></tr><tr class = \"subheader headerLastRow\"><th class = \"rowNumber\" style = \"font-weight: bold; text-align: right;\"></th><th title = \"CategoricalValue{String, UInt32}\" style = \"text-align: left;\">Cat…</th><th title = \"Int64\" style = \"text-align: left;\">Int64</th><th title = \"Float64\" style = \"text-align: left;\">Float64</th></tr></thead><tbody><tr><td class = \"rowNumber\" style = \"font-weight: bold; text-align: right;\">1</td><td style = \"text-align: left;\">Brisbane, Australia</td><td style = \"text-align: right;\">2</td><td style = \"text-align: right;\">20.0</td></tr><tr><td class = \"rowNumber\" style = \"font-weight: bold; text-align: right;\">2</td><td style = \"text-align: left;\">Colombia</td><td style = \"text-align: right;\">1</td><td style = \"text-align: right;\">10.0</td></tr><tr><td class = \"rowNumber\" style = \"font-weight: bold; text-align: right;\">3</td><td style = \"text-align: left;\">Asia-Pacific</td><td style = \"text-align: right;\">1</td><td style = \"text-align: right;\">10.0</td></tr><tr><td class = \"rowNumber\" style = \"font-weight: bold; text-align: right;\">4</td><td style = \"text-align: left;\">North-Western Province, Sri Lanka</td><td style = \"text-align: right;\">1</td><td style = \"text-align: right;\">10.0</td></tr><tr><td class = \"rowNumber\" style = \"font-weight: bold; text-align: right;\">5</td><td style = \"text-align: left;\">Colombo</td><td style = \"text-align: right;\">1</td><td style = \"text-align: right;\">10.0</td></tr><tr><td class = \"rowNumber\" style = \"font-weight: bold; text-align: right;\">6</td><td style = \"text-align: left;\">Sankara Nethralaya eye hospital Chennai, India </td><td style = \"text-align: right;\">1</td><td style = \"text-align: right;\">10.0</td></tr><tr><td class = \"rowNumber\" style = \"font-weight: bold; text-align: right;\">7</td><td style = \"text-align: left;\">Manila, Philippines, University of the Philippines Manila</td><td style = \"text-align: right;\">1</td><td style = \"text-align: right;\">10.0</td></tr><tr><td class = \"rowNumber\" style = \"font-weight: bold; text-align: right;\">8</td><td style = \"text-align: left;\">LSHTM (UK), Keele university (UK), Primary Care Network (UK)</td><td style = \"text-align: right;\">1</td><td style = \"text-align: right;\">10.0</td></tr><tr><td class = \"rowNumber\" style = \"font-weight: bold; text-align: right;\">9</td><td style = \"text-align: left;\">Australia </td><td style = \"text-align: right;\">1</td><td style = \"text-align: right;\">10.0</td></tr></tbody></table></div>"
      ],
      "text/latex": [
       "\\begin{tabular}{r|ccc}\n",
       "\t& category & counts & pct\\\\\n",
       "\t\\hline\n",
       "\t& Cat… & Int64 & Float64\\\\\n",
       "\t\\hline\n",
       "\t1 & Brisbane, Australia & 2 & 20.0 \\\\\n",
       "\t2 & Colombia & 1 & 10.0 \\\\\n",
       "\t3 & Asia-Pacific & 1 & 10.0 \\\\\n",
       "\t4 & North-Western Province, Sri Lanka & 1 & 10.0 \\\\\n",
       "\t5 & Colombo & 1 & 10.0 \\\\\n",
       "\t6 & Sankara Nethralaya eye hospital Chennai, India  & 1 & 10.0 \\\\\n",
       "\t7 & Manila, Philippines, University of the Philippines Manila & 1 & 10.0 \\\\\n",
       "\t8 & LSHTM (UK), Keele university (UK), Primary Care Network (UK) & 1 & 10.0 \\\\\n",
       "\t9 & Australia  & 1 & 10.0 \\\\\n",
       "\\end{tabular}\n"
      ],
      "text/plain": [
       "\u001b[1m9×3 DataFrame\u001b[0m\n",
       "\u001b[1m Row \u001b[0m│\u001b[1m category                          \u001b[0m\u001b[1m counts \u001b[0m\u001b[1m pct     \u001b[0m\n",
       "     │\u001b[90m Cat…                              \u001b[0m\u001b[90m Int64  \u001b[0m\u001b[90m Float64 \u001b[0m\n",
       "─────┼────────────────────────────────────────────────────\n",
       "   1 │ Brisbane, Australia                     2     20.0\n",
       "   2 │ Colombia                                1     10.0\n",
       "   3 │ Asia-Pacific                            1     10.0\n",
       "   4 │ North-Western Province, Sri Lanka       1     10.0\n",
       "   5 │ Colombo                                 1     10.0\n",
       "   6 │ Sankara Nethralaya eye hospital …       1     10.0\n",
       "   7 │ Manila, Philippines, University …       1     10.0\n",
       "   8 │ LSHTM (UK), Keele university (UK…       1     10.0\n",
       "   9 │ Australia                               1     10.0"
      ]
     },
     "execution_count": 200,
     "metadata": {},
     "output_type": "execute_result"
    }
   ],
   "source": [
    "# Countries and regions they belong to\n",
    "country = select(selected_df, :Q8)\n",
    "country2 = dropmissing(country)\n",
    "country3 = country2[3:length(country2.Q8), :]\n",
    "country4 = categorical(country3.Q8)\n",
    "country_counts = give_counts(country4)\n",
    "\n",
    "# country"
   ]
  },
  {
   "cell_type": "code",
   "execution_count": 163,
   "id": "a712193b-0dde-4ae2-b569-12abeeaebcc8",
   "metadata": {},
   "outputs": [
    {
     "data": {
      "text/html": [
       "<div><div style = \"float: left;\"><span>14×3 DataFrame</span></div><div style = \"clear: both;\"></div></div><div class = \"data-frame\" style = \"overflow-x: scroll;\"><table class = \"data-frame\" style = \"margin-bottom: 6px;\"><thead><tr class = \"header\"><th class = \"rowNumber\" style = \"font-weight: bold; text-align: right;\">Row</th><th style = \"text-align: left;\">category</th><th style = \"text-align: left;\">counts</th><th style = \"text-align: left;\">pct</th></tr><tr class = \"subheader headerLastRow\"><th class = \"rowNumber\" style = \"font-weight: bold; text-align: right;\"></th><th title = \"CategoricalValue{String, UInt32}\" style = \"text-align: left;\">Cat…</th><th title = \"Int64\" style = \"text-align: left;\">Int64</th><th title = \"Float64\" style = \"text-align: left;\">Float64</th></tr></thead><tbody><tr><td class = \"rowNumber\" style = \"font-weight: bold; text-align: right;\">1</td><td style = \"text-align: left;\">Former director of the University of the Philippines Manila National Telehealth Center</td><td style = \"text-align: right;\">1</td><td style = \"text-align: right;\">7.14286</td></tr><tr><td class = \"rowNumber\" style = \"font-weight: bold; text-align: right;\">2</td><td style = \"text-align: left;\"> Specialized medical Doctor in Health Informatics with special interest in Telehealth. Development of Telemedicine Guidelines for Sri Lanka. ISO committee member in ISO/TC215 Taskforce on Telehealth and Virtual Care.  </td><td style = \"text-align: right;\">1</td><td style = \"text-align: right;\">7.14286</td></tr><tr><td class = \"rowNumber\" style = \"font-weight: bold; text-align: right;\">3</td><td style = \"text-align: left;\">Researcher</td><td style = \"text-align: right;\">1</td><td style = \"text-align: right;\">7.14286</td></tr><tr><td class = \"rowNumber\" style = \"font-weight: bold; text-align: right;\">4</td><td style = \"text-align: left;\">Research, evaluation and adoption. </td><td style = \"text-align: right;\">1</td><td style = \"text-align: right;\">7.14286</td></tr><tr><td class = \"rowNumber\" style = \"font-weight: bold; text-align: right;\">5</td><td style = \"text-align: left;\">Implementer</td><td style = \"text-align: right;\">1</td><td style = \"text-align: right;\">7.14286</td></tr><tr><td class = \"rowNumber\" style = \"font-weight: bold; text-align: right;\">6</td><td style = \"text-align: left;\">Using and teaching</td><td style = \"text-align: right;\">1</td><td style = \"text-align: right;\">7.14286</td></tr><tr><td class = \"rowNumber\" style = \"font-weight: bold; text-align: right;\">7</td><td style = \"text-align: left;\">Research &amp; Strategy</td><td style = \"text-align: right;\">1</td><td style = \"text-align: right;\">7.14286</td></tr><tr><td class = \"rowNumber\" style = \"font-weight: bold; text-align: right;\">8</td><td style = \"text-align: left;\">(Remote) Care provider, Telehealth consultant, software and systems developer, trainer and academician</td><td style = \"text-align: right;\">1</td><td style = \"text-align: right;\">7.14286</td></tr><tr><td class = \"rowNumber\" style = \"font-weight: bold; text-align: right;\">9</td><td style = \"text-align: left;\">Consultant</td><td style = \"text-align: right;\">1</td><td style = \"text-align: right;\">7.14286</td></tr><tr><td class = \"rowNumber\" style = \"font-weight: bold; text-align: right;\">10</td><td style = \"text-align: left;\">Research</td><td style = \"text-align: right;\">1</td><td style = \"text-align: right;\">7.14286</td></tr><tr><td class = \"rowNumber\" style = \"font-weight: bold; text-align: right;\">11</td><td style = \"text-align: left;\">Profesor, Editor, Writer, Project Leader and Program Coordinator, Researcher, and Consultor. MS in Telemedicine.</td><td style = \"text-align: right;\">1</td><td style = \"text-align: right;\">7.14286</td></tr><tr><td class = \"rowNumber\" style = \"font-weight: bold; text-align: right;\">12</td><td style = \"text-align: left;\">Clinician and policy</td><td style = \"text-align: right;\">1</td><td style = \"text-align: right;\">7.14286</td></tr><tr><td class = \"rowNumber\" style = \"font-weight: bold; text-align: right;\">13</td><td style = \"text-align: left;\">Head of Teleophthalmology and implementation of Telemedicine services on a day to day basis </td><td style = \"text-align: right;\">1</td><td style = \"text-align: right;\">7.14286</td></tr><tr><td class = \"rowNumber\" style = \"font-weight: bold; text-align: right;\">14</td><td style = \"text-align: left;\">Guidelines and service developer. researcher, academic </td><td style = \"text-align: right;\">1</td><td style = \"text-align: right;\">7.14286</td></tr></tbody></table></div>"
      ],
      "text/latex": [
       "\\begin{tabular}{r|cc}\n",
       "\t& category & \\\\\n",
       "\t\\hline\n",
       "\t& Cat… & \\\\\n",
       "\t\\hline\n",
       "\t1 & Former director of the University of the Philippines Manila National Telehealth Center & $\\dots$ \\\\\n",
       "\t2 &  Specialized medical Doctor in Health Informatics with special interest in Telehealth. Development of Telemedicine Guidelines for Sri Lanka. ISO committee member in ISO/TC215 Taskforce on Telehealth and Virtual Care.   & $\\dots$ \\\\\n",
       "\t3 & Researcher & $\\dots$ \\\\\n",
       "\t4 & Research, evaluation and adoption.  & $\\dots$ \\\\\n",
       "\t5 & Implementer & $\\dots$ \\\\\n",
       "\t6 & Using and teaching & $\\dots$ \\\\\n",
       "\t7 & Research \\& Strategy & $\\dots$ \\\\\n",
       "\t8 & (Remote) Care provider, Telehealth consultant, software and systems developer, trainer and academician & $\\dots$ \\\\\n",
       "\t9 & Consultant & $\\dots$ \\\\\n",
       "\t10 & Research & $\\dots$ \\\\\n",
       "\t11 & Profesor, Editor, Writer, Project Leader and Program Coordinator, Researcher, and Consultor. MS in Telemedicine. & $\\dots$ \\\\\n",
       "\t12 & Clinician and policy & $\\dots$ \\\\\n",
       "\t13 & Head of Teleophthalmology and implementation of Telemedicine services on a day to day basis  & $\\dots$ \\\\\n",
       "\t14 & Guidelines and service developer. researcher, academic  & $\\dots$ \\\\\n",
       "\\end{tabular}\n"
      ],
      "text/plain": [
       "\u001b[1m14×3 DataFrame\u001b[0m\n",
       "\u001b[1m Row \u001b[0m│\u001b[1m category                          \u001b[0m\u001b[1m counts \u001b[0m\u001b[1m pct     \u001b[0m\n",
       "     │\u001b[90m Cat…                              \u001b[0m\u001b[90m Int64  \u001b[0m\u001b[90m Float64 \u001b[0m\n",
       "─────┼────────────────────────────────────────────────────\n",
       "   1 │ Former director of the Universit…       1  7.14286\n",
       "   2 │  Specialized medical Doctor in H…       1  7.14286\n",
       "   3 │ Researcher                              1  7.14286\n",
       "   4 │ Research, evaluation and adoptio…       1  7.14286\n",
       "   5 │ Implementer                             1  7.14286\n",
       "   6 │ Using and teaching                      1  7.14286\n",
       "   7 │ Research & Strategy                     1  7.14286\n",
       "   8 │ (Remote) Care provider, Teleheal…       1  7.14286\n",
       "   9 │ Consultant                              1  7.14286\n",
       "  10 │ Research                                1  7.14286\n",
       "  11 │ Profesor, Editor, Writer, Projec…       1  7.14286\n",
       "  12 │ Clinician and policy                    1  7.14286\n",
       "  13 │ Head of Teleophthalmology and im…       1  7.14286\n",
       "  14 │ Guidelines and service developer…       1  7.14286"
      ]
     },
     "execution_count": 163,
     "metadata": {},
     "output_type": "execute_result"
    }
   ],
   "source": [
    "# Job role\n",
    "role = select(selected_df, :Role)\n",
    "role2 = dropmissing(role)\n",
    "role3 = role2[3:length(role2.Role), :]\n",
    "role4 = categorical(role3.Role)\n",
    "role4_counts = give_counts(role4)"
   ]
  },
  {
   "cell_type": "code",
   "execution_count": 202,
   "id": "37bc74ff-8802-4e40-92f7-c5b267358620",
   "metadata": {},
   "outputs": [
    {
     "data": {
      "text/plain": [
       "split_uniformly (generic function with 1 method)"
      ]
     },
     "execution_count": 202,
     "metadata": {},
     "output_type": "execute_result"
    }
   ],
   "source": [
    "# Preferences with multiple entries split, define a function\n",
    "function split_uniformly(v)\n",
    "    s = split.(v, ',')\n",
    "    n = maximum(length.(s))\n",
    "    [NamedTuple(Symbol.(\"choice\", 1:n) .=> get.(Ref(genres), 1:n, missing))\n",
    "     for genres in s]\n",
    "end"
   ]
  },
  {
   "cell_type": "code",
   "execution_count": 203,
   "id": "ed66d6db-28d5-49dc-8d97-d98895cad761",
   "metadata": {},
   "outputs": [
    {
     "data": {
      "text/html": [
       "<div><div style = \"float: left;\"><span>6×4 DataFrame</span></div><div style = \"clear: both;\"></div></div><div class = \"data-frame\" style = \"overflow-x: scroll;\"><table class = \"data-frame\" style = \"margin-bottom: 6px;\"><thead><tr class = \"header\"><th class = \"rowNumber\" style = \"font-weight: bold; text-align: right;\">Row</th><th style = \"text-align: left;\">choice1</th><th style = \"text-align: left;\">choice2</th><th style = \"text-align: left;\">choice3</th><th style = \"text-align: left;\">choice4</th></tr><tr class = \"subheader headerLastRow\"><th class = \"rowNumber\" style = \"font-weight: bold; text-align: right;\"></th><th title = \"SubString{String}\" style = \"text-align: left;\">SubStrin…</th><th title = \"Union{Missing, SubString{String}}\" style = \"text-align: left;\">SubStrin…?</th><th title = \"Union{Missing, SubString{String}}\" style = \"text-align: left;\">SubStrin…?</th><th title = \"Union{Missing, SubString{String}}\" style = \"text-align: left;\">SubStrin…?</th></tr></thead><tbody><tr><td class = \"rowNumber\" style = \"font-weight: bold; text-align: right;\">1</td><td style = \"text-align: left;\">Distance Bridging System</td><td style = \"text-align: left;\">Store and Forward</td><td style = \"text-align: left;\">Mobile Health</td><td style = \"text-align: left;\">Mobile Messaging</td></tr><tr><td class = \"rowNumber\" style = \"font-weight: bold; text-align: right;\">2</td><td style = \"text-align: left;\">None of the above / Other</td><td style = \"font-style: italic; text-align: left;\">missing</td><td style = \"font-style: italic; text-align: left;\">missing</td><td style = \"font-style: italic; text-align: left;\">missing</td></tr><tr><td class = \"rowNumber\" style = \"font-weight: bold; text-align: right;\">3</td><td style = \"text-align: left;\">Distance Bridging System</td><td style = \"text-align: left;\">Mobile Messaging</td><td style = \"font-style: italic; text-align: left;\">missing</td><td style = \"font-style: italic; text-align: left;\">missing</td></tr><tr><td class = \"rowNumber\" style = \"font-weight: bold; text-align: right;\">4</td><td style = \"text-align: left;\">Distance Bridging System</td><td style = \"font-style: italic; text-align: left;\">missing</td><td style = \"font-style: italic; text-align: left;\">missing</td><td style = \"font-style: italic; text-align: left;\">missing</td></tr><tr><td class = \"rowNumber\" style = \"font-weight: bold; text-align: right;\">5</td><td style = \"text-align: left;\">None of the above / Other</td><td style = \"font-style: italic; text-align: left;\">missing</td><td style = \"font-style: italic; text-align: left;\">missing</td><td style = \"font-style: italic; text-align: left;\">missing</td></tr><tr><td class = \"rowNumber\" style = \"font-weight: bold; text-align: right;\">6</td><td style = \"text-align: left;\">Distance Bridging System</td><td style = \"font-style: italic; text-align: left;\">missing</td><td style = \"font-style: italic; text-align: left;\">missing</td><td style = \"font-style: italic; text-align: left;\">missing</td></tr></tbody></table></div>"
      ],
      "text/latex": [
       "\\begin{tabular}{r|cccc}\n",
       "\t& choice1 & choice2 & choice3 & choice4\\\\\n",
       "\t\\hline\n",
       "\t& SubStrin… & SubStrin…? & SubStrin…? & SubStrin…?\\\\\n",
       "\t\\hline\n",
       "\t1 & Distance Bridging System & Store and Forward & Mobile Health & Mobile Messaging \\\\\n",
       "\t2 & None of the above / Other & \\emph{missing} & \\emph{missing} & \\emph{missing} \\\\\n",
       "\t3 & Distance Bridging System & Mobile Messaging & \\emph{missing} & \\emph{missing} \\\\\n",
       "\t4 & Distance Bridging System & \\emph{missing} & \\emph{missing} & \\emph{missing} \\\\\n",
       "\t5 & None of the above / Other & \\emph{missing} & \\emph{missing} & \\emph{missing} \\\\\n",
       "\t6 & Distance Bridging System & \\emph{missing} & \\emph{missing} & \\emph{missing} \\\\\n",
       "\\end{tabular}\n"
      ],
      "text/plain": [
       "\u001b[1m6×4 DataFrame\u001b[0m\n",
       "\u001b[1m Row \u001b[0m│\u001b[1m choice1                   \u001b[0m\u001b[1m choice2           \u001b[0m\u001b[1m choice3       \u001b[0m\u001b[1m choice4   \u001b[0m ⋯\n",
       "     │\u001b[90m SubStrin…                 \u001b[0m\u001b[90m SubStrin…?        \u001b[0m\u001b[90m SubStrin…?    \u001b[0m\u001b[90m SubStrin…?\u001b[0m ⋯\n",
       "─────┼──────────────────────────────────────────────────────────────────────────\n",
       "   1 │ Distance Bridging System   Store and Forward  Mobile Health  Mobile Mes ⋯\n",
       "   2 │ None of the above / Other \u001b[90m missing           \u001b[0m\u001b[90m missing       \u001b[0m\u001b[90m missing   \u001b[0m\n",
       "   3 │ Distance Bridging System   Mobile Messaging  \u001b[90m missing       \u001b[0m\u001b[90m missing   \u001b[0m\n",
       "   4 │ Distance Bridging System  \u001b[90m missing           \u001b[0m\u001b[90m missing       \u001b[0m\u001b[90m missing   \u001b[0m\n",
       "   5 │ None of the above / Other \u001b[90m missing           \u001b[0m\u001b[90m missing       \u001b[0m\u001b[90m missing   \u001b[0m ⋯\n",
       "   6 │ Distance Bridging System  \u001b[90m missing           \u001b[0m\u001b[90m missing       \u001b[0m\u001b[90m missing   \u001b[0m\n",
       "\u001b[36m                                                                1 column omitted\u001b[0m"
      ]
     },
     "execution_count": 203,
     "metadata": {},
     "output_type": "execute_result"
    }
   ],
   "source": [
    "# Split the multiple choices\n",
    "\n",
    "choices = select(selected_df, :Preference)\n",
    "choices2 = choices[3:length(choices.Preference), :]\n",
    "string.(choices2.Preference)\n",
    "#choices3 = select(choices2, :Preference => split_uniformly => AsTable)\n",
    "typeof(choices2.Preference)\n",
    "choices2.Preference\n",
    "choices3 = dropmissing!(df2)\n",
    "choices4 = choices3[3:length(choices3.Preference), :]\n",
    "choices4\n",
    "choices5 = select(choices4, :Preference => split_uniformly => AsTable)"
   ]
  },
  {
   "cell_type": "code",
   "execution_count": 172,
   "id": "36c6e0ce-e10b-4a06-ba88-8e1dc56cb99e",
   "metadata": {},
   "outputs": [
    {
     "data": {
      "text/html": [
       "<div><div style = \"float: left;\"><span>20×5 DataFrame</span></div><div style = \"clear: both;\"></div></div><div class = \"data-frame\" style = \"overflow-x: scroll;\"><table class = \"data-frame\" style = \"margin-bottom: 6px;\"><thead><tr class = \"header\"><th class = \"rowNumber\" style = \"font-weight: bold; text-align: right;\">Row</th><th style = \"text-align: left;\">distance_bridging</th><th style = \"text-align: left;\">store_forward</th><th style = \"text-align: left;\">mobile_applications</th><th style = \"text-align: left;\">mobile_messaging</th><th style = \"text-align: left;\">none_above</th></tr><tr class = \"subheader headerLastRow\"><th class = \"rowNumber\" style = \"font-weight: bold; text-align: right;\"></th><th title = \"Union{Missing, String}\" style = \"text-align: left;\">String?</th><th title = \"Union{Missing, String}\" style = \"text-align: left;\">String?</th><th title = \"Union{Missing, String}\" style = \"text-align: left;\">String?</th><th title = \"Union{Missing, String}\" style = \"text-align: left;\">String?</th><th title = \"Union{Missing, String}\" style = \"text-align: left;\">String?</th></tr></thead><tbody><tr><td class = \"rowNumber\" style = \"font-weight: bold; text-align: right;\">1</td><td style = \"text-align: left;\">1</td><td style = \"text-align: left;\">4</td><td style = \"text-align: left;\">2</td><td style = \"text-align: left;\">3</td><td style = \"font-style: italic; text-align: left;\">missing</td></tr><tr><td class = \"rowNumber\" style = \"font-weight: bold; text-align: right;\">2</td><td style = \"text-align: left;\">1</td><td style = \"text-align: left;\">2</td><td style = \"text-align: left;\">3</td><td style = \"text-align: left;\">4</td><td style = \"font-style: italic; text-align: left;\">missing</td></tr><tr><td class = \"rowNumber\" style = \"font-weight: bold; text-align: right;\">3</td><td style = \"text-align: left;\">1</td><td style = \"text-align: left;\">2</td><td style = \"text-align: left;\">3</td><td style = \"text-align: left;\">4</td><td style = \"font-style: italic; text-align: left;\">missing</td></tr><tr><td class = \"rowNumber\" style = \"font-weight: bold; text-align: right;\">4</td><td style = \"text-align: left;\">1</td><td style = \"text-align: left;\">2</td><td style = \"text-align: left;\">3</td><td style = \"text-align: left;\">4</td><td style = \"font-style: italic; text-align: left;\">missing</td></tr><tr><td class = \"rowNumber\" style = \"font-weight: bold; text-align: right;\">5</td><td style = \"font-style: italic; text-align: left;\">missing</td><td style = \"font-style: italic; text-align: left;\">missing</td><td style = \"font-style: italic; text-align: left;\">missing</td><td style = \"font-style: italic; text-align: left;\">missing</td><td style = \"font-style: italic; text-align: left;\">missing</td></tr><tr><td class = \"rowNumber\" style = \"font-weight: bold; text-align: right;\">6</td><td style = \"font-style: italic; text-align: left;\">missing</td><td style = \"font-style: italic; text-align: left;\">missing</td><td style = \"font-style: italic; text-align: left;\">missing</td><td style = \"font-style: italic; text-align: left;\">missing</td><td style = \"font-style: italic; text-align: left;\">missing</td></tr><tr><td class = \"rowNumber\" style = \"font-weight: bold; text-align: right;\">7</td><td style = \"text-align: left;\">1</td><td style = \"text-align: left;\">3</td><td style = \"text-align: left;\">2</td><td style = \"text-align: left;\">4</td><td style = \"text-align: left;\">5</td></tr><tr><td class = \"rowNumber\" style = \"font-weight: bold; text-align: right;\">8</td><td style = \"font-style: italic; text-align: left;\">missing</td><td style = \"font-style: italic; text-align: left;\">missing</td><td style = \"font-style: italic; text-align: left;\">missing</td><td style = \"font-style: italic; text-align: left;\">missing</td><td style = \"font-style: italic; text-align: left;\">missing</td></tr><tr><td class = \"rowNumber\" style = \"font-weight: bold; text-align: right;\">9</td><td style = \"text-align: left;\">1</td><td style = \"text-align: left;\">3</td><td style = \"text-align: left;\">2</td><td style = \"text-align: left;\">4</td><td style = \"text-align: left;\">5</td></tr><tr><td class = \"rowNumber\" style = \"font-weight: bold; text-align: right;\">10</td><td style = \"text-align: left;\">1</td><td style = \"text-align: left;\">2</td><td style = \"text-align: left;\">3</td><td style = \"text-align: left;\">4</td><td style = \"text-align: left;\">5</td></tr><tr><td class = \"rowNumber\" style = \"font-weight: bold; text-align: right;\">11</td><td style = \"text-align: left;\">2</td><td style = \"text-align: left;\">3</td><td style = \"text-align: left;\">4</td><td style = \"text-align: left;\">1</td><td style = \"text-align: left;\">5</td></tr><tr><td class = \"rowNumber\" style = \"font-weight: bold; text-align: right;\">12</td><td style = \"font-style: italic; text-align: left;\">missing</td><td style = \"font-style: italic; text-align: left;\">missing</td><td style = \"font-style: italic; text-align: left;\">missing</td><td style = \"font-style: italic; text-align: left;\">missing</td><td style = \"font-style: italic; text-align: left;\">missing</td></tr><tr><td class = \"rowNumber\" style = \"font-weight: bold; text-align: right;\">13</td><td style = \"font-style: italic; text-align: left;\">missing</td><td style = \"font-style: italic; text-align: left;\">missing</td><td style = \"font-style: italic; text-align: left;\">missing</td><td style = \"font-style: italic; text-align: left;\">missing</td><td style = \"font-style: italic; text-align: left;\">missing</td></tr><tr><td class = \"rowNumber\" style = \"font-weight: bold; text-align: right;\">14</td><td style = \"text-align: left;\">1</td><td style = \"text-align: left;\">4</td><td style = \"text-align: left;\">2</td><td style = \"text-align: left;\">3</td><td style = \"text-align: left;\">5</td></tr><tr><td class = \"rowNumber\" style = \"font-weight: bold; text-align: right;\">15</td><td style = \"text-align: left;\">1</td><td style = \"text-align: left;\">2</td><td style = \"text-align: left;\">3</td><td style = \"text-align: left;\">4</td><td style = \"text-align: left;\">5</td></tr><tr><td class = \"rowNumber\" style = \"font-weight: bold; text-align: right;\">16</td><td style = \"text-align: left;\">1</td><td style = \"text-align: left;\">4</td><td style = \"text-align: left;\">3</td><td style = \"text-align: left;\">2</td><td style = \"text-align: left;\">5</td></tr><tr><td class = \"rowNumber\" style = \"font-weight: bold; text-align: right;\">17</td><td style = \"text-align: left;\">1</td><td style = \"text-align: left;\">2</td><td style = \"text-align: left;\">3</td><td style = \"text-align: left;\">4</td><td style = \"text-align: left;\">5</td></tr><tr><td class = \"rowNumber\" style = \"font-weight: bold; text-align: right;\">18</td><td style = \"text-align: left;\">1</td><td style = \"text-align: left;\">2</td><td style = \"text-align: left;\">4</td><td style = \"text-align: left;\">3</td><td style = \"text-align: left;\">5</td></tr><tr><td class = \"rowNumber\" style = \"font-weight: bold; text-align: right;\">19</td><td style = \"text-align: left;\">1</td><td style = \"text-align: left;\">3</td><td style = \"text-align: left;\">2</td><td style = \"text-align: left;\">4</td><td style = \"text-align: left;\">5</td></tr><tr><td class = \"rowNumber\" style = \"font-weight: bold; text-align: right;\">20</td><td style = \"text-align: left;\">2</td><td style = \"text-align: left;\">3</td><td style = \"text-align: left;\">4</td><td style = \"text-align: left;\">5</td><td style = \"text-align: left;\">1</td></tr></tbody></table></div>"
      ],
      "text/latex": [
       "\\begin{tabular}{r|ccccc}\n",
       "\t& distance\\_bridging & store\\_forward & mobile\\_applications & mobile\\_messaging & none\\_above\\\\\n",
       "\t\\hline\n",
       "\t& String? & String? & String? & String? & String?\\\\\n",
       "\t\\hline\n",
       "\t1 & 1 & 4 & 2 & 3 & \\emph{missing} \\\\\n",
       "\t2 & 1 & 2 & 3 & 4 & \\emph{missing} \\\\\n",
       "\t3 & 1 & 2 & 3 & 4 & \\emph{missing} \\\\\n",
       "\t4 & 1 & 2 & 3 & 4 & \\emph{missing} \\\\\n",
       "\t5 & \\emph{missing} & \\emph{missing} & \\emph{missing} & \\emph{missing} & \\emph{missing} \\\\\n",
       "\t6 & \\emph{missing} & \\emph{missing} & \\emph{missing} & \\emph{missing} & \\emph{missing} \\\\\n",
       "\t7 & 1 & 3 & 2 & 4 & 5 \\\\\n",
       "\t8 & \\emph{missing} & \\emph{missing} & \\emph{missing} & \\emph{missing} & \\emph{missing} \\\\\n",
       "\t9 & 1 & 3 & 2 & 4 & 5 \\\\\n",
       "\t10 & 1 & 2 & 3 & 4 & 5 \\\\\n",
       "\t11 & 2 & 3 & 4 & 1 & 5 \\\\\n",
       "\t12 & \\emph{missing} & \\emph{missing} & \\emph{missing} & \\emph{missing} & \\emph{missing} \\\\\n",
       "\t13 & \\emph{missing} & \\emph{missing} & \\emph{missing} & \\emph{missing} & \\emph{missing} \\\\\n",
       "\t14 & 1 & 4 & 2 & 3 & 5 \\\\\n",
       "\t15 & 1 & 2 & 3 & 4 & 5 \\\\\n",
       "\t16 & 1 & 4 & 3 & 2 & 5 \\\\\n",
       "\t17 & 1 & 2 & 3 & 4 & 5 \\\\\n",
       "\t18 & 1 & 2 & 4 & 3 & 5 \\\\\n",
       "\t19 & 1 & 3 & 2 & 4 & 5 \\\\\n",
       "\t20 & 2 & 3 & 4 & 5 & 1 \\\\\n",
       "\\end{tabular}\n"
      ],
      "text/plain": [
       "\u001b[1m20×5 DataFrame\u001b[0m\n",
       "\u001b[1m Row \u001b[0m│\u001b[1m distance_bridging \u001b[0m\u001b[1m store_forward \u001b[0m\u001b[1m mobile_applications \u001b[0m\u001b[1m mobile_messaging\u001b[0m ⋯\n",
       "     │\u001b[90m String?           \u001b[0m\u001b[90m String?       \u001b[0m\u001b[90m String?             \u001b[0m\u001b[90m String?         \u001b[0m ⋯\n",
       "─────┼──────────────────────────────────────────────────────────────────────────\n",
       "   1 │ 1                  4              2                    3                ⋯\n",
       "   2 │ 1                  2              3                    4\n",
       "   3 │ 1                  2              3                    4\n",
       "   4 │ 1                  2              3                    4\n",
       "   5 │\u001b[90m missing           \u001b[0m\u001b[90m missing       \u001b[0m\u001b[90m missing             \u001b[0m\u001b[90m missing         \u001b[0m ⋯\n",
       "   6 │\u001b[90m missing           \u001b[0m\u001b[90m missing       \u001b[0m\u001b[90m missing             \u001b[0m\u001b[90m missing         \u001b[0m\n",
       "   7 │ 1                  3              2                    4\n",
       "   8 │\u001b[90m missing           \u001b[0m\u001b[90m missing       \u001b[0m\u001b[90m missing             \u001b[0m\u001b[90m missing         \u001b[0m\n",
       "   9 │ 1                  3              2                    4                ⋯\n",
       "  10 │ 1                  2              3                    4\n",
       "  11 │ 2                  3              4                    1\n",
       "  12 │\u001b[90m missing           \u001b[0m\u001b[90m missing       \u001b[0m\u001b[90m missing             \u001b[0m\u001b[90m missing         \u001b[0m\n",
       "  13 │\u001b[90m missing           \u001b[0m\u001b[90m missing       \u001b[0m\u001b[90m missing             \u001b[0m\u001b[90m missing         \u001b[0m ⋯\n",
       "  14 │ 1                  4              2                    3\n",
       "  15 │ 1                  2              3                    4\n",
       "  16 │ 1                  4              3                    2\n",
       "  17 │ 1                  2              3                    4                ⋯\n",
       "  18 │ 1                  2              4                    3\n",
       "  19 │ 1                  3              2                    4\n",
       "  20 │ 2                  3              4                    5\n",
       "\u001b[36m                                                                1 column omitted\u001b[0m"
      ]
     },
     "execution_count": 172,
     "metadata": {},
     "output_type": "execute_result"
    }
   ],
   "source": [
    "# relative values of the rankings\n",
    "ranking_data = selected_df[4:23, [:Ranking_1, :Ranking_2, :Ranking_3, :Ranking_4, :Ranking_5]]\n",
    "rank_data = rename(ranking_data,\n",
    "    :Ranking_1 => :distance_bridging,\n",
    "    :Ranking_2 => :store_forward,\n",
    "    :Ranking_3 => :mobile_applications,\n",
    "    :Ranking_4 => :mobile_messaging,\n",
    "    :Ranking_5 => :none_above\n",
    "    )"
   ]
  },
  {
   "cell_type": "code",
   "execution_count": 183,
   "id": "26f903c2-2603-4ec7-97fe-7c1d595cb683",
   "metadata": {},
   "outputs": [
    {
     "data": {
      "text/html": [
       "<div><div style = \"float: left;\"><span>5×2 DataFrame</span></div><div style = \"clear: both;\"></div></div><div class = \"data-frame\" style = \"overflow-x: scroll;\"><table class = \"data-frame\" style = \"margin-bottom: 6px;\"><thead><tr class = \"header\"><th class = \"rowNumber\" style = \"font-weight: bold; text-align: right;\">Row</th><th style = \"text-align: left;\">Definitions</th><th style = \"text-align: left;\">Rank_values</th></tr><tr class = \"subheader headerLastRow\"><th class = \"rowNumber\" style = \"font-weight: bold; text-align: right;\"></th><th title = \"String\" style = \"text-align: left;\">String</th><th title = \"Float64\" style = \"text-align: left;\">Float64</th></tr></thead><tbody><tr><td class = \"rowNumber\" style = \"font-weight: bold; text-align: right;\">1</td><td style = \"text-align: left;\">distance bridge</td><td style = \"text-align: right;\">1.13333</td></tr><tr><td class = \"rowNumber\" style = \"font-weight: bold; text-align: right;\">2</td><td style = \"text-align: left;\">Store Forward</td><td style = \"text-align: right;\">2.73333</td></tr><tr><td class = \"rowNumber\" style = \"font-weight: bold; text-align: right;\">3</td><td style = \"text-align: left;\">Mobile Apps</td><td style = \"text-align: right;\">2.86667</td></tr><tr><td class = \"rowNumber\" style = \"font-weight: bold; text-align: right;\">4</td><td style = \"text-align: left;\">Mobile Messaging</td><td style = \"text-align: right;\">3.53333</td></tr><tr><td class = \"rowNumber\" style = \"font-weight: bold; text-align: right;\">5</td><td style = \"text-align: left;\">None</td><td style = \"text-align: right;\">4.63636</td></tr></tbody></table></div>"
      ],
      "text/latex": [
       "\\begin{tabular}{r|cc}\n",
       "\t& Definitions & Rank\\_values\\\\\n",
       "\t\\hline\n",
       "\t& String & Float64\\\\\n",
       "\t\\hline\n",
       "\t1 & distance bridge & 1.13333 \\\\\n",
       "\t2 & Store Forward & 2.73333 \\\\\n",
       "\t3 & Mobile Apps & 2.86667 \\\\\n",
       "\t4 & Mobile Messaging & 3.53333 \\\\\n",
       "\t5 & None & 4.63636 \\\\\n",
       "\\end{tabular}\n"
      ],
      "text/plain": [
       "\u001b[1m5×2 DataFrame\u001b[0m\n",
       "\u001b[1m Row \u001b[0m│\u001b[1m Definitions      \u001b[0m\u001b[1m Rank_values \u001b[0m\n",
       "     │\u001b[90m String           \u001b[0m\u001b[90m Float64     \u001b[0m\n",
       "─────┼───────────────────────────────\n",
       "   1 │ distance bridge       1.13333\n",
       "   2 │ Store Forward         2.73333\n",
       "   3 │ Mobile Apps           2.86667\n",
       "   4 │ Mobile Messaging      3.53333\n",
       "   5 │ None                  4.63636"
      ]
     },
     "execution_count": 183,
     "metadata": {},
     "output_type": "execute_result"
    }
   ],
   "source": [
    "# Calculate the average values for the ranks\n",
    "distance_bridge_rank_av = mean(parse.(Float64, skipmissing(rank_data.distance_bridging))) # 1.13\n",
    "store_fwd_rank_av = mean(parse.(Float64, skipmissing(rank_data.store_forward))) # 2.73\n",
    "mob_app_rank_av = mean(parse.(Float64, skipmissing(rank_data.mobile_applications))) #2.86\n",
    "mob_msg_rank_av = mean(parse.(Float64, skipmissing(rank_data.mobile_messaging))) # 3.53\n",
    "none_rank_av = mean(parse.(Float64, skipmissing(rank_data.none_above))) #4.63\n",
    "\n",
    "relative_ranks = DataFrame(:Definitions => [\"distance bridge\", \"Store Forward\", \"Mobile Apps\", \"Mobile Messaging\", \"None\"],\n",
    "    :Rank_values => [distance_bridge_rank_av, store_fwd_rank_av, mob_app_rank_av, mob_msg_rank_av, none_rank_av] )\n"
   ]
  },
  {
   "cell_type": "markdown",
   "id": "ee92aa8b-8016-4d15-9e3b-3ded87aafdf3",
   "metadata": {},
   "source": [
    "## Summary \n",
    "Most members where 20 years or more in the profession and are engaged in a range of roles in teaching, research, and practice of telehealth. The members who responded were from different continents and different areas of expertise. There was agreement telehealth as \"bridging the distance\" and to some extent was about store and forward technology and mobile apps. That telehealth was also about mobile messaging was relegated to low ranks of agreement. Members also offered their own definitions of the field and there was wide range of definitions. This preliminary data exploration needs a validation with wider range of telehealth practitioners. If seasoned, self-selected practitioners of telehealth and telemedicine cannot arrive at a consensus as to the nature of their own discipline beyond the obvious (telehealth as bridging the distance), there is a need to study the viewpoint of a wider audience and this is important in terms of the practice of this discipline in the field. "
   ]
  },
  {
   "cell_type": "code",
   "execution_count": null,
   "id": "85043b34-eb6a-437d-a1ba-56f60c041f5f",
   "metadata": {},
   "outputs": [],
   "source": []
  }
 ],
 "metadata": {
  "kernelspec": {
   "display_name": "Julia 1.9.1",
   "language": "julia",
   "name": "julia-1.9"
  },
  "language_info": {
   "file_extension": ".jl",
   "mimetype": "application/julia",
   "name": "julia",
   "version": "1.9.1"
  }
 },
 "nbformat": 4,
 "nbformat_minor": 5
}
